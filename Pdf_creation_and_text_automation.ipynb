{
  "nbformat": 4,
  "nbformat_minor": 0,
  "metadata": {
    "colab": {
      "name": "Pdf creation and text automation.ipynb",
      "provenance": [],
      "collapsed_sections": [],
      "authorship_tag": "ABX9TyOx14pAZqx9LddAT/MBX7ZZ",
      "include_colab_link": true
    },
    "kernelspec": {
      "name": "python3",
      "display_name": "Python 3"
    },
    "language_info": {
      "name": "python"
    }
  },
  "cells": [
    {
      "cell_type": "markdown",
      "metadata": {
        "id": "view-in-github",
        "colab_type": "text"
      },
      "source": [
        "<a href=\"https://colab.research.google.com/github/aidanjwest/Digital-Humanities-Project.-/blob/main/Pdf_creation_and_text_automation.ipynb\" target=\"_parent\"><img src=\"https://colab.research.google.com/assets/colab-badge.svg\" alt=\"Open In Colab\"/></a>"
      ]
    },
    {
      "cell_type": "code",
      "metadata": {
        "id": "o2up8KAmSDS0"
      },
      "source": [
        "#### Part I. Creates artificial data using a markov word generator, and turns it into a pdf vaguely resembling the FCO documents that the final model will be used on. This pdf is then used in the colab doc.\n",
        "#This code was initially compiled on a local jupyter notebook, but transferred to colab for sake of consistency. \n",
        "\n",
        "import string\n",
        "!pip install fpdf\n",
        "from fpdf import FPDF \n",
        "\n",
        "import random\n",
        "from itertools import repeat, chain\n",
        "\n",
        "!pip install essential_generators\n",
        "\n",
        "from essential_generators import DocumentGenerator\n",
        "import re\n",
        "\n",
        "from itertools import repeat, chain"
      ],
      "execution_count": null,
      "outputs": []
    },
    {
      "cell_type": "markdown",
      "metadata": {
        "id": "2uqK-0Gfr9C4"
      },
      "source": [
        "The code below creates the training data. A Markov chain generator is used, along with some built-in python formatting to underline, and capitalize random parts of the text. This is then written into a text file. "
      ]
    },
    {
      "cell_type": "code",
      "metadata": {
        "id": "im3d2QJHrxDT"
      },
      "source": [
        "\n",
        "def underline(s):\n",
        "    return ''.join(chain.from_iterable(zip(s, repeat(\"\\u0332\"))))\n",
        "\n",
        "gen = DocumentGenerator()\n",
        "\n",
        "model_text = \"\"\n",
        "sentence_count = 0\n",
        "\n",
        "while sentence_count < 2500:\n",
        "    sentence = str(gen.sentence())\n",
        "    \n",
        "    if sentence_count % 2 == 0:\n",
        "        model_text += sentence + \" \"\n",
        "        sentence_count += 1\n",
        "    else:\n",
        "        model_text += sentence.upper() + \" \"\n",
        "        sentence_count += 1\n",
        "\n",
        "model_text = ascii(model_text)\n",
        "\n",
        "re.sub(' +', ' ', model_text)\n",
        "\n",
        "with open(\"model_text.txt\", 'w', encoding=\"utf-8\") as f:\n",
        "    f.write(model_text)\n",
        "\n",
        "with open(\"model_text.txt\", 'r', encoding=\"utf-8\") as f:\n",
        "    content = f.read()"
      ],
      "execution_count": null,
      "outputs": []
    },
    {
      "cell_type": "markdown",
      "metadata": {
        "id": "JVYrw9YLsN84"
      },
      "source": [
        "The code below uses that text file to create the pdf. The font is Courier, size 10 so as to resemble the FCO typewriter style. The colour (223, 229, 227) is vaguely grey-ish, for the same purpose. The style is also formatted to look the same, with the margins and titles set in the same style. \n"
      ]
    },
    {
      "cell_type": "code",
      "metadata": {
        "id": "PAht0Ho4r4Q5"
      },
      "source": [
        "\n",
        "title = 'Confidential'\n",
        "\n",
        "class PDF(FPDF):\n",
        "    def header(self):\n",
        "        self.set_font('Courier', 'B', 15)\n",
        "        w = self.get_string_width(title) + 6\n",
        "        self.set_x((210 - w) / 2)\n",
        "        self.set_draw_color(223, 229, 227)\n",
        "        self.set_fill_color(223, 229, 227)\n",
        "        #self.set_text_color(220, 50, 50)\n",
        "        self.set_line_width(1)\n",
        "        self.cell(w, 9, title, 1, 1, 'C', True)\n",
        "        self.ln(10)\n",
        "\n",
        "    def footer(self):\n",
        "        self.set_y(-15)\n",
        "        self.set_font('Courier', 'I', 8)\n",
        "        self.set_text_color(128)\n",
        "        self.cell(0, 10, 'Page ' + str(self.page_no()), 0, 0, 'C')\n",
        "\n",
        "    def chapter_title(self, num, label):\n",
        "        #self.set_font('Courier', 12)\n",
        "        self.set_fill_color(223, 229, 227)\n",
        "        self.cell(0, 6, 'Chapter %d: %s' % (num, label), 0, 1, 'L', 1)\n",
        "        self.ln(4)\n",
        "\n",
        "    def chapter_body(self, name):\n",
        "        with open(name, 'rb') as fh:\n",
        "            txt = fh.read().decode(\"latin-1\")\n",
        "        # Times 12\n",
        "        self.set_font('Courier', '', 11)\n",
        "        self.set_fill_color(223, 229, 227)           \n",
        "        self.multi_cell(170, 5, txt, align = 'l', fill = True)\n",
        "        self.ln()\n",
        "        # Mention in italics\n",
        "        self.set_font('', 'I')\n",
        "        self.cell(0, 5, '(end of excerpt)')\n",
        "\n",
        "    def print_chapter(self, num, title, name):\n",
        "        self.add_page()\n",
        "        self.chapter_title(num, title)\n",
        "        self.chapter_body(name)\n",
        "\n",
        "pdf = PDF()\n",
        "pdf.set_title(title)\n",
        "pdf.set_author('The FCO')\n",
        "pdf.print_chapter(1, \"Looking Good\", 'model_text.txt')\n",
        "pdf.output('Model_text.pdf', 'F')\n",
        "\n"
      ],
      "execution_count": null,
      "outputs": []
    },
    {
      "cell_type": "markdown",
      "metadata": {
        "id": "7yFWo1-GsjXY"
      },
      "source": [
        "This code then automates the process of filling out the editable html that kraken produced. "
      ]
    },
    {
      "cell_type": "code",
      "metadata": {
        "id": "KBXCJ6Ejr7BR"
      },
      "source": [
        "\n",
        "print(content[6610:6620])\n",
        "\n",
        "import requests \n",
        "from bs4 import BeautifulSoup\n",
        "\n",
        "from urllib.request import urlopen as uReq\n",
        "import os\n",
        "import re\n",
        "\n",
        "with open('more_lines.txt', 'r') as file:\n",
        "    content = file.readlines()\n",
        "    print(len(content))\n",
        "\n",
        "soup = BeautifulSoup(open(r'C:\\Users\\Barry Tuba\\Documents\\Year 4 loool\\Digital Humanities\\Finding_Sarah.html'), 'lxml')\n",
        "test_containers = soup.find_all('li') \n",
        "\n",
        "print(type(test_containers), \"length:\", len(test_containers))\n",
        "print(len(content))\n",
        "\n",
        "silver_surfer = [tag for tag in test_containers if tag.find(\"a\", class_ = 'page_anchor') == None]\n",
        "\n",
        "for tag, sentence in zip(silver_surfer, content):\n",
        "    tag.append(sentence)\n",
        "\n",
        "\n",
        "with open(\"example_modified.html\", \"wb\") as f_output:\n",
        "    f_output.write(soup.prettify(\"utf-8\"))  \n"
      ],
      "execution_count": null,
      "outputs": []
    },
    {
      "cell_type": "markdown",
      "metadata": {
        "id": "UI4z4KsUrkMl"
      },
      "source": [
        ""
      ]
    }
  ]
}