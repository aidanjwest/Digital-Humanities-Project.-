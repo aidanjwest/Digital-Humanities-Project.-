{
  "nbformat": 4,
  "nbformat_minor": 0,
  "metadata": {
    "colab": {
      "name": "she's_a_model_and_she's_looking_good.ipynb",
      "provenance": [],
      "collapsed_sections": [],
      "authorship_tag": "ABX9TyMRxtXIxngZV4ARq7V8vuPs",
      "include_colab_link": true
    },
    "kernelspec": {
      "name": "python3",
      "display_name": "Python 3"
    },
    "language_info": {
      "name": "python"
    }
  },
  "cells": [
    {
      "cell_type": "markdown",
      "metadata": {
        "id": "view-in-github",
        "colab_type": "text"
      },
      "source": [
        "<a href=\"https://colab.research.google.com/github/aidanjwest/Digital-Humanities-Project.-/blob/main/she's_a_model_and_she's_looking_good.ipynb\" target=\"_parent\"><img src=\"https://colab.research.google.com/assets/colab-badge.svg\" alt=\"Open In Colab\"/></a>"
      ]
    },
    {
      "cell_type": "code",
      "metadata": {
        "id": "-J0ZDrSmXyEQ"
      },
      "source": [
        "!apt install libpangocairo-1.0 libxml2 libblas3 liblapack3 python3-dev python3-pip\n",
        "import os\n",
        "! pip3 install kraken\n",
        "!pip install pdf2image\n",
        "from pdf2image import convert_from_path\n",
        "!apt-get install poppler-utils\n",
        "from pdf2image.exceptions import (\n",
        "    PDFInfoNotInstalledError,\n",
        "    PDFPageCountError,\n",
        "    PDFSyntaxError)\n",
        "import glob"
      ],
      "execution_count": null,
      "outputs": []
    },
    {
      "cell_type": "markdown",
      "metadata": {
        "id": "SWm-Yb56HBoJ"
      },
      "source": [
        "**This colab file shows the long and arduous process of training the model. The first few lines turn the training data into png files, then a html file is created, then the png files are converted into that html file, the contents are filled out in another colab document, and extracted in this one. Then, using that, the model is fine-tuned. I had most luck with a model of dimensions '[1,0,0,3 Cr3,3,16 Mp3,3 Lfys64 Lbx128 Lbx256 Do]'. Long story short, this model includes a convolutional layer, a recurrent layer, a layer that is optimized for non black-and-white data, and a regularization layer. However, this was mostly done using trial and error.**"
      ]
    },
    {
      "cell_type": "code",
      "metadata": {
        "id": "nL7L-Y63bJ_8"
      },
      "source": [
        "output_folder = '/content/sample_data/New_Folder'\n",
        "pdf_path = '/content/Model_text.pdf'\n",
        "def PDF_to_PNG_conversion():\n",
        "  conversion = convert_from_path(pdf_path, output_folder = output_folder, fmt = \"png\")\n",
        "  \n",
        "PDF_to_PNG_conversion()"
      ],
      "execution_count": null,
      "outputs": []
    },
    {
      "cell_type": "markdown",
      "metadata": {
        "id": "e7E30bIWwVxV"
      },
      "source": [
        "The code below creates the html file to which the training data will be transcribed to. "
      ]
    },
    {
      "cell_type": "code",
      "metadata": {
        "id": "fT6hmEVCdzc6"
      },
      "source": [
        "f = open('NEWHTML', 'w')\n",
        "  \n",
        "html_template = \"\"\"<html>\n",
        "<head>\n",
        "<title>Title</title>\n",
        "</head>\n",
        "<body>\n",
        "<h2> something something something </h2>\n",
        "  \n",
        "<p></p>\n",
        "  \n",
        "</body>\n",
        "</html>\n",
        "\"\"\"\n",
        "\n",
        "f.write(html_template)\n",
        "\n",
        "f.close()"
      ],
      "execution_count": null,
      "outputs": []
    },
    {
      "cell_type": "code",
      "metadata": {
        "colab": {
          "base_uri": "https://localhost:8080/"
        },
        "id": "bohheSOOnomn",
        "outputId": "ad28364d-ffa7-4f49-9691-168f61ebf5b5"
      },
      "source": [
        "images = glob.glob('/content/sample_data/New_Folder' + '/*.png') \n",
        "more_images = ''\n",
        "\n",
        "x = sorted(images)\n",
        "\n",
        "for i in x:\n",
        "  more_images += \"'\" + i + \"'\" + ' '\n",
        "\n",
        "print(more_images)"
      ],
      "execution_count": null,
      "outputs": [
        {
          "output_type": "stream",
          "text": [
            "'/content/sample_data/New_Folder/8efeeba8-8664-456f-ba87-26758ac372a6-01.png' '/content/sample_data/New_Folder/8efeeba8-8664-456f-ba87-26758ac372a6-02.png' '/content/sample_data/New_Folder/8efeeba8-8664-456f-ba87-26758ac372a6-03.png' '/content/sample_data/New_Folder/8efeeba8-8664-456f-ba87-26758ac372a6-04.png' '/content/sample_data/New_Folder/8efeeba8-8664-456f-ba87-26758ac372a6-05.png' '/content/sample_data/New_Folder/8efeeba8-8664-456f-ba87-26758ac372a6-06.png' '/content/sample_data/New_Folder/8efeeba8-8664-456f-ba87-26758ac372a6-07.png' '/content/sample_data/New_Folder/8efeeba8-8664-456f-ba87-26758ac372a6-08.png' '/content/sample_data/New_Folder/8efeeba8-8664-456f-ba87-26758ac372a6-09.png' '/content/sample_data/New_Folder/8efeeba8-8664-456f-ba87-26758ac372a6-10.png' '/content/sample_data/New_Folder/8efeeba8-8664-456f-ba87-26758ac372a6-11.png' '/content/sample_data/New_Folder/8efeeba8-8664-456f-ba87-26758ac372a6-12.png' '/content/sample_data/New_Folder/8efeeba8-8664-456f-ba87-26758ac372a6-13.png' '/content/sample_data/New_Folder/8efeeba8-8664-456f-ba87-26758ac372a6-14.png' '/content/sample_data/New_Folder/8efeeba8-8664-456f-ba87-26758ac372a6-15.png' '/content/sample_data/New_Folder/8efeeba8-8664-456f-ba87-26758ac372a6-16.png' '/content/sample_data/New_Folder/8efeeba8-8664-456f-ba87-26758ac372a6-17.png' '/content/sample_data/New_Folder/8efeeba8-8664-456f-ba87-26758ac372a6-18.png' '/content/sample_data/New_Folder/8efeeba8-8664-456f-ba87-26758ac372a6-19.png' '/content/sample_data/New_Folder/8efeeba8-8664-456f-ba87-26758ac372a6-20.png' '/content/sample_data/New_Folder/8efeeba8-8664-456f-ba87-26758ac372a6-21.png' '/content/sample_data/New_Folder/8efeeba8-8664-456f-ba87-26758ac372a6-22.png' '/content/sample_data/New_Folder/8efeeba8-8664-456f-ba87-26758ac372a6-23.png' '/content/sample_data/New_Folder/8efeeba8-8664-456f-ba87-26758ac372a6-24.png' '/content/sample_data/New_Folder/8efeeba8-8664-456f-ba87-26758ac372a6-25.png' '/content/sample_data/New_Folder/8efeeba8-8664-456f-ba87-26758ac372a6-26.png' '/content/sample_data/New_Folder/8efeeba8-8664-456f-ba87-26758ac372a6-27.png' '/content/sample_data/New_Folder/8efeeba8-8664-456f-ba87-26758ac372a6-28.png' '/content/sample_data/New_Folder/8efeeba8-8664-456f-ba87-26758ac372a6-29.png' '/content/sample_data/New_Folder/8efeeba8-8664-456f-ba87-26758ac372a6-30.png' '/content/sample_data/New_Folder/8efeeba8-8664-456f-ba87-26758ac372a6-31.png' '/content/sample_data/New_Folder/8efeeba8-8664-456f-ba87-26758ac372a6-32.png' '/content/sample_data/New_Folder/8efeeba8-8664-456f-ba87-26758ac372a6-33.png' '/content/sample_data/New_Folder/8efeeba8-8664-456f-ba87-26758ac372a6-34.png' '/content/sample_data/New_Folder/8efeeba8-8664-456f-ba87-26758ac372a6-35.png' '/content/sample_data/New_Folder/8efeeba8-8664-456f-ba87-26758ac372a6-36.png' '/content/sample_data/New_Folder/8efeeba8-8664-456f-ba87-26758ac372a6-37.png' '/content/sample_data/New_Folder/8efeeba8-8664-456f-ba87-26758ac372a6-38.png' '/content/sample_data/New_Folder/8efeeba8-8664-456f-ba87-26758ac372a6-39.png' '/content/sample_data/New_Folder/8efeeba8-8664-456f-ba87-26758ac372a6-40.png' '/content/sample_data/New_Folder/8efeeba8-8664-456f-ba87-26758ac372a6-41.png' '/content/sample_data/New_Folder/8efeeba8-8664-456f-ba87-26758ac372a6-42.png' '/content/sample_data/New_Folder/8efeeba8-8664-456f-ba87-26758ac372a6-43.png' '/content/sample_data/New_Folder/8efeeba8-8664-456f-ba87-26758ac372a6-44.png' '/content/sample_data/New_Folder/8efeeba8-8664-456f-ba87-26758ac372a6-45.png' '/content/sample_data/New_Folder/8efeeba8-8664-456f-ba87-26758ac372a6-46.png' \n"
          ],
          "name": "stdout"
        }
      ]
    },
    {
      "cell_type": "markdown",
      "metadata": {
        "id": "i0jrA1aKwbt7"
      },
      "source": [
        "Then, the training data is transcribed. "
      ]
    },
    {
      "cell_type": "markdown",
      "metadata": {
        "id": "8LPR8QznwUtw"
      },
      "source": [
        ""
      ]
    },
    {
      "cell_type": "code",
      "metadata": {
        "colab": {
          "base_uri": "https://localhost:8080/"
        },
        "id": "Js1kwHv_feS-",
        "outputId": "488057d0-345d-41dd-f226-ae0ec4f2fd18"
      },
      "source": [
        "!ketos transcribe -bw -f Courier -o NEWHTML.html '/content/sample_data/New_Folder/8efeeba8-8664-456f-ba87-26758ac372a6-01.png' '/content/sample_data/New_Folder/8efeeba8-8664-456f-ba87-26758ac372a6-02.png' '/content/sample_data/New_Folder/8efeeba8-8664-456f-ba87-26758ac372a6-03.png' '/content/sample_data/New_Folder/8efeeba8-8664-456f-ba87-26758ac372a6-04.png' '/content/sample_data/New_Folder/8efeeba8-8664-456f-ba87-26758ac372a6-05.png' '/content/sample_data/New_Folder/8efeeba8-8664-456f-ba87-26758ac372a6-06.png' '/content/sample_data/New_Folder/8efeeba8-8664-456f-ba87-26758ac372a6-07.png' '/content/sample_data/New_Folder/8efeeba8-8664-456f-ba87-26758ac372a6-08.png' '/content/sample_data/New_Folder/8efeeba8-8664-456f-ba87-26758ac372a6-09.png' '/content/sample_data/New_Folder/8efeeba8-8664-456f-ba87-26758ac372a6-10.png' '/content/sample_data/New_Folder/8efeeba8-8664-456f-ba87-26758ac372a6-11.png' '/content/sample_data/New_Folder/8efeeba8-8664-456f-ba87-26758ac372a6-12.png' '/content/sample_data/New_Folder/8efeeba8-8664-456f-ba87-26758ac372a6-13.png' '/content/sample_data/New_Folder/8efeeba8-8664-456f-ba87-26758ac372a6-14.png' '/content/sample_data/New_Folder/8efeeba8-8664-456f-ba87-26758ac372a6-15.png' '/content/sample_data/New_Folder/8efeeba8-8664-456f-ba87-26758ac372a6-16.png' '/content/sample_data/New_Folder/8efeeba8-8664-456f-ba87-26758ac372a6-17.png' '/content/sample_data/New_Folder/8efeeba8-8664-456f-ba87-26758ac372a6-18.png' '/content/sample_data/New_Folder/8efeeba8-8664-456f-ba87-26758ac372a6-19.png' '/content/sample_data/New_Folder/8efeeba8-8664-456f-ba87-26758ac372a6-20.png' '/content/sample_data/New_Folder/8efeeba8-8664-456f-ba87-26758ac372a6-21.png' '/content/sample_data/New_Folder/8efeeba8-8664-456f-ba87-26758ac372a6-22.png' '/content/sample_data/New_Folder/8efeeba8-8664-456f-ba87-26758ac372a6-23.png' '/content/sample_data/New_Folder/8efeeba8-8664-456f-ba87-26758ac372a6-24.png' '/content/sample_data/New_Folder/8efeeba8-8664-456f-ba87-26758ac372a6-25.png' '/content/sample_data/New_Folder/8efeeba8-8664-456f-ba87-26758ac372a6-26.png' '/content/sample_data/New_Folder/8efeeba8-8664-456f-ba87-26758ac372a6-27.png' '/content/sample_data/New_Folder/8efeeba8-8664-456f-ba87-26758ac372a6-28.png' '/content/sample_data/New_Folder/8efeeba8-8664-456f-ba87-26758ac372a6-29.png' '/content/sample_data/New_Folder/8efeeba8-8664-456f-ba87-26758ac372a6-30.png' '/content/sample_data/New_Folder/8efeeba8-8664-456f-ba87-26758ac372a6-31.png' '/content/sample_data/New_Folder/8efeeba8-8664-456f-ba87-26758ac372a6-32.png' '/content/sample_data/New_Folder/8efeeba8-8664-456f-ba87-26758ac372a6-33.png' '/content/sample_data/New_Folder/8efeeba8-8664-456f-ba87-26758ac372a6-34.png' '/content/sample_data/New_Folder/8efeeba8-8664-456f-ba87-26758ac372a6-35.png' '/content/sample_data/New_Folder/8efeeba8-8664-456f-ba87-26758ac372a6-36.png' '/content/sample_data/New_Folder/8efeeba8-8664-456f-ba87-26758ac372a6-37.png' '/content/sample_data/New_Folder/8efeeba8-8664-456f-ba87-26758ac372a6-38.png' '/content/sample_data/New_Folder/8efeeba8-8664-456f-ba87-26758ac372a6-39.png' '/content/sample_data/New_Folder/8efeeba8-8664-456f-ba87-26758ac372a6-40.png' '/content/sample_data/New_Folder/8efeeba8-8664-456f-ba87-26758ac372a6-41.png' '/content/sample_data/New_Folder/8efeeba8-8664-456f-ba87-26758ac372a6-42.png' '/content/sample_data/New_Folder/8efeeba8-8664-456f-ba87-26758ac372a6-43.png' '/content/sample_data/New_Folder/8efeeba8-8664-456f-ba87-26758ac372a6-44.png' '/content/sample_data/New_Folder/8efeeba8-8664-456f-ba87-26758ac372a6-45.png' '/content/sample_data/New_Folder/8efeeba8-8664-456f-ba87-26758ac372a6-46.png' \n"
      ],
      "execution_count": null,
      "outputs": [
        {
          "output_type": "stream",
          "text": [
            "WARNING:root:scikit-learn version 0.22.2.post1 is not supported. Minimum required version: 0.17. Maximum required version: 0.19.2. Disabling scikit-learn conversion API.\n",
            "2021-04-22 12:55:46.321816: I tensorflow/stream_executor/platform/default/dso_loader.cc:49] Successfully opened dynamic library libcudart.so.11.0\n",
            "WARNING:root:TensorFlow version 2.4.1 detected. Last version known to be fully compatible is 2.3.1 .\n",
            "WARNING:root:Keras version 2.4.3 detected. Last version known to be fully compatible of Keras is 2.2.4 .\n",
            "\u001b[?25lReading images  [####################################]  100%          \u001b[?25h\n",
            "Writing output\u001b[0m\u001b[32m✓\u001b[0m\n"
          ],
          "name": "stdout"
        }
      ]
    },
    {
      "cell_type": "markdown",
      "metadata": {
        "id": "dK1_GySpwfLq"
      },
      "source": [
        "The html is filled out in the previous colab document, and the contents are extracted here. "
      ]
    },
    {
      "cell_type": "code",
      "metadata": {
        "id": "HMR8NulOdaV3",
        "colab": {
          "base_uri": "https://localhost:8080/"
        },
        "outputId": "7581d18a-c33d-4eb9-fec4-bcad7b844017"
      },
      "source": [
        "!ketos extract --output '/content/sample_data/Output_Folder' NEW_HTML_FILLED.html"
      ],
      "execution_count": null,
      "outputs": [
        {
          "output_type": "stream",
          "text": [
            "\r\u001b[?25lReading transcriptions  [####################################]  100%\u001b[?25h\n"
          ],
          "name": "stdout"
        }
      ]
    },
    {
      "cell_type": "markdown",
      "metadata": {
        "id": "arZUlfENwlH0"
      },
      "source": [
        "The model is then trained using the data extracted. Here, some variations of models are shown. "
      ]
    },
    {
      "cell_type": "code",
      "metadata": {
        "id": "NwGRHmWKlSuH"
      },
      "source": [
        "!ketos train -s '[1,0,0,3 Cr3,3,16 Mp3,3 Lfys64 Lbx128 Lbx256 Do]' -i en_best.mlmodel --optimizer RMSprop '/content/sample_data/Output_Folder'/*.png "
      ],
      "execution_count": null,
      "outputs": []
    },
    {
      "cell_type": "code",
      "metadata": {
        "colab": {
          "base_uri": "https://localhost:8080/"
        },
        "id": "Y46kE0nizvlm",
        "outputId": "f6a961a4-b123-4269-8b0d-57e4c9056fe4"
      },
      "source": [
        "!ketos train --resize add -s '[1,0,0,3 Cr3,3,16 Mp3,3 Lfys64 Lbx128 Lbx256 Do]' -i English_model.mlmodel  --optimizer RMSprop '/content/sample_data/Output_Folder'/*.png "
      ],
      "execution_count": null,
      "outputs": [
        {
          "output_type": "stream",
          "text": [
            "WARNING:root:scikit-learn version 0.22.2.post1 is not supported. Minimum required version: 0.17. Maximum required version: 0.19.2. Disabling scikit-learn conversion API.\n",
            "2021-04-22 14:12:42.818682: I tensorflow/stream_executor/platform/default/dso_loader.cc:49] Successfully opened dynamic library libcudart.so.11.0\n",
            "WARNING:root:TensorFlow version 2.4.1 detected. Last version known to be fully compatible is 2.3.1 .\n",
            "WARNING:root:Keras version 2.4.3 detected. Last version known to be fully compatible of Keras is 2.2.4 .\n",
            "\u001b[?25lBuilding training set  [####################################]  100%          \u001b[?25h\n",
            "\u001b[?25lBuilding validation set  [####################################]  100%          \u001b[?25h\n",
            "\u001b[33m[55.2544] alphabet mismatch: chars in training set only: {'[', '}', '#', '=', '&', '/', '*', '$', '+', '|', ']'} (not included in accuracy test during training) \u001b[0m\n",
            "Network codec not compatible with training set\u001b[0m\n",
            "Adding missing labels to network \u001b[0m\u001b[32m✓\u001b[0m\n",
            "\u001b[?25lstage 1/∞  [####################################]  2079/2079          Accuracy report (1) 0.9953 14757 70\u001b[0m\n",
            "\u001b[?25lstage 2/∞  [####################################]  2079/2079           Accuracy report (2) 0.9921 14757 116\u001b[0m\n",
            "\u001b[?25lstage 3/∞  [####################################]  2079/2079           Accuracy report (3) 0.9933 14757 99\u001b[0m\n",
            "\u001b[?25lstage 4/∞  [####################################]  2079/2079            Accuracy report (4) 0.9944 14757 82\u001b[0m\n",
            "\u001b[?25lstage 5/∞  [####################################]  2079/2079            Accuracy report (5) 0.9917 14757 122\u001b[0m\n",
            "\u001b[?25lstage 6/∞  [####################################]  2079/2079            Accuracy report (6) 0.9911 14757 131\u001b[0m\n",
            "\u001b[?25h\n",
            "Moving best model model_1.mlmodel (0.9952564884461611) to model_best.mlmodel\u001b[0m\n"
          ],
          "name": "stdout"
        }
      ]
    },
    {
      "cell_type": "markdown",
      "metadata": {
        "id": "EVxN-bfsw0X6"
      },
      "source": [
        "Once the model has finished training, some testing data is needed. The code below takes one of the FCO files not under consideration and performs the necessary steps to get it in a form that kraken can process. "
      ]
    },
    {
      "cell_type": "code",
      "metadata": {
        "id": "Z5AgNIqrC2rH"
      },
      "source": [
        "output_folder2 = '/content/sample_data/Testing_Folder'\n",
        "pdf_path2 = '/content/FCO_17_1444.pdf'\n",
        "def PDF_to_PNG_conversion2():\n",
        "  conversion = convert_from_path(pdf_path2, output_folder = output_folder2, fmt = \"png\")\n",
        "  \n",
        "PDF_to_PNG_conversion2()"
      ],
      "execution_count": null,
      "outputs": []
    },
    {
      "cell_type": "code",
      "metadata": {
        "id": "aas0Jr9JDLFC"
      },
      "source": [
        "for image_file in os.listdir('/content/sample_data/Testing_Folder'):\n",
        "  with open(image_file + \".txt\", 'w') as f:\n",
        "    f.write(\"New File\")"
      ],
      "execution_count": null,
      "outputs": []
    },
    {
      "cell_type": "code",
      "metadata": {
        "id": "J9-pHrzbDuX9",
        "colab": {
          "base_uri": "https://localhost:8080/"
        },
        "outputId": "7f0cfe39-776f-4e17-e83e-26576f6e8d00"
      },
      "source": [
        "images = glob.glob('/content/sample_data/Testing_Folder' + '/*.png')\n",
        "print(images)\n",
        "print(len(images))\n",
        "\n",
        "texts = glob.glob('/content/' + '/*.txt')\n",
        "print(texts)\n",
        "print(len(texts))\n"
      ],
      "execution_count": null,
      "outputs": [
        {
          "output_type": "stream",
          "text": [
            "['/content/sample_data/Testing_Folder/5511194e-ed74-46b9-a172-77f3de5b72d2-01.png', '/content/sample_data/Testing_Folder/5511194e-ed74-46b9-a172-77f3de5b72d2-10.png', '/content/sample_data/Testing_Folder/5511194e-ed74-46b9-a172-77f3de5b72d2-03.png', '/content/sample_data/Testing_Folder/5511194e-ed74-46b9-a172-77f3de5b72d2-13.png', '/content/sample_data/Testing_Folder/5511194e-ed74-46b9-a172-77f3de5b72d2-02.png', '/content/sample_data/Testing_Folder/5511194e-ed74-46b9-a172-77f3de5b72d2-11.png', '/content/sample_data/Testing_Folder/5511194e-ed74-46b9-a172-77f3de5b72d2-05.png', '/content/sample_data/Testing_Folder/5511194e-ed74-46b9-a172-77f3de5b72d2-06.png', '/content/sample_data/Testing_Folder/5511194e-ed74-46b9-a172-77f3de5b72d2-09.png', '/content/sample_data/Testing_Folder/5511194e-ed74-46b9-a172-77f3de5b72d2-07.png', '/content/sample_data/Testing_Folder/5511194e-ed74-46b9-a172-77f3de5b72d2-08.png', '/content/sample_data/Testing_Folder/5511194e-ed74-46b9-a172-77f3de5b72d2-04.png', '/content/sample_data/Testing_Folder/5511194e-ed74-46b9-a172-77f3de5b72d2-12.png']\n",
            "13\n",
            "['/content/5511194e-ed74-46b9-a172-77f3de5b72d2-02.png.txt', '/content/5511194e-ed74-46b9-a172-77f3de5b72d2-11.png.txt', '/content/5511194e-ed74-46b9-a172-77f3de5b72d2-03.png.txt', '/content/5511194e-ed74-46b9-a172-77f3de5b72d2-06.png.txt', '/content/5511194e-ed74-46b9-a172-77f3de5b72d2-12.png.txt', '/content/5511194e-ed74-46b9-a172-77f3de5b72d2-08.png.txt', '/content/5511194e-ed74-46b9-a172-77f3de5b72d2-10.png.txt', '/content/5511194e-ed74-46b9-a172-77f3de5b72d2-05.png.txt', '/content/5511194e-ed74-46b9-a172-77f3de5b72d2-04.png.txt', '/content/5511194e-ed74-46b9-a172-77f3de5b72d2-09.png.txt', '/content/5511194e-ed74-46b9-a172-77f3de5b72d2-07.png.txt', '/content/5511194e-ed74-46b9-a172-77f3de5b72d2-01.png.txt', '/content/5511194e-ed74-46b9-a172-77f3de5b72d2-13.png.txt']\n",
            "13\n"
          ],
          "name": "stdout"
        }
      ]
    },
    {
      "cell_type": "markdown",
      "metadata": {
        "id": "7-h0_7jNwxUy"
      },
      "source": [
        "The models are then tested on the file and the output is written into a text file. "
      ]
    },
    {
      "cell_type": "code",
      "metadata": {
        "id": "zorBk2DbD9VW"
      },
      "source": [
        "for pic, text in zip(images, texts):\n",
        "  !kraken -i $pic $text binarize segment ocr -m model_best.mlmodel "
      ],
      "execution_count": null,
      "outputs": []
    },
    {
      "cell_type": "code",
      "metadata": {
        "id": "UQ57OuOoEEAi"
      },
      "source": [
        "with open('All_text.txt', 'w') as outfile:\n",
        "  for fname in texts:\n",
        "    with open(fname) as infile:\n",
        "      outfile.write(infile.read())\n",
        "\n",
        "with open('All_text.txt', 'r') as ting:\n",
        "  contents = ting.read()\n",
        "  print(contents)"
      ],
      "execution_count": null,
      "outputs": []
    },
    {
      "cell_type": "markdown",
      "metadata": {
        "id": "hORR467zxBUI"
      },
      "source": [
        "Below details experimentation of whether fine-tuning the pre-trained kraken model was better than training my own. "
      ]
    },
    {
      "cell_type": "code",
      "metadata": {
        "id": "hk-dV7bySF4I",
        "colab": {
          "base_uri": "https://localhost:8080/"
        },
        "outputId": "3cc88e88-86d4-49a4-8450-ab17f2affc83"
      },
      "source": [
        "!kraken get 10.5281/zenodo.2577813"
      ],
      "execution_count": null,
      "outputs": [
        {
          "output_type": "stream",
          "text": [
            "Retrieving model \u001b[0m.\u001b[0m.\u001b[0m.\u001b[0m.\u001b[0m.\u001b[0m.\u001b[0m.\u001b[0m.\u001b[0m.\u001b[0m.\u001b[0m.\u001b[0m.\u001b[0m.\u001b[0m.\u001b[0m.\u001b[0m.\u001b[0m.\u001b[0m.\u001b[0m.\u001b[0m.\u001b[0m.\u001b[0m.\u001b[0m.\u001b[0m.\u001b[0m.\u001b[0m.\u001b[0m.\u001b[0m.\u001b[0m.\u001b[0m.\u001b[0m.\u001b[0m.\u001b[0m.\u001b[0m.\u001b[0m.\u001b[0m.\u001b[0m.\u001b[0m.\u001b[0m.\u001b[0m.\u001b[0m.\u001b[0m.\u001b[0m.\u001b[0m.\u001b[0m.\u001b[0m.\u001b[0m.\u001b[0m.\u001b[0m.\u001b[0m.\u001b[0m.\u001b[0m.\u001b[0m.\u001b[0m.\u001b[0m.\u001b[0m.\u001b[0m.\u001b[0m.\u001b[0m.\u001b[0m.\u001b[0m.\u001b[0m.\u001b[0m.\u001b[0m.\u001b[0m.\u001b[0m.\u001b[0m.\u001b[0m.\u001b[0m.\u001b[0m.\u001b[0m.\u001b[0m.\u001b[0m.\u001b[0m.\u001b[0m.\u001b[0m.\u001b[0m.\u001b[0m.\u001b[0m.\u001b[0m.\u001b[0m.\u001b[0m.\u001b[0m.\u001b[0m.\u001b[0m.\u001b[0m.\u001b[0m.\u001b[0m.\u001b[0m.\u001b[0m.\u001b[0m.\u001b[0m.\u001b[0m.\u001b[0m.\u001b[0m.\u001b[0m.\u001b[0m.\u001b[0m.\u001b[0m.\u001b[0m.\u001b[0m.\u001b[0m.\u001b[0m.\u001b[0m.\u001b[0m.\u001b[0m.\u001b[0m.\u001b[0m.\u001b[0m.\u001b[0m.\u001b[0m.\u001b[0m.\u001b[0m.\u001b[0m.\u001b[0m.\u001b[0m.\u001b[0m.\u001b[0m.\u001b[0m.\u001b[0m.\u001b[0m.\u001b[0m.\u001b[0m.\u001b[0m.\u001b[0m.\u001b[0m.\u001b[0m.\u001b[0m.\u001b[0m.\u001b[0m.\u001b[0m.\u001b[0m.\u001b[0m.\u001b[0m.\u001b[0m.\u001b[0m.\u001b[0m.\u001b[0m.\u001b[0m.\u001b[0m.\u001b[0m.\u001b[0m.\u001b[0m.\u001b[0m.\u001b[0m.\u001b[0m.\u001b[0m.\u001b[0m.\u001b[0m.\u001b[0m.\u001b[0m.\u001b[0m.\u001b[0m.\u001b[0m.\u001b[0m.\u001b[0m.\u001b[0m.\u001b[0m.\u001b[0m.\u001b[0m.\u001b[0m.\u001b[0m.\u001b[0m.\u001b[0m.\u001b[0m.\u001b[0m.\u001b[0m.\u001b[0m.\u001b[0m.\u001b[0m.\u001b[0m.\u001b[0m.\u001b[0m.\u001b[0m.\u001b[0m.\u001b[0m.\u001b[0m.\u001b[0m.\u001b[0m.\u001b[0m.\u001b[0m.\u001b[0m.\u001b[0m.\u001b[0m.\u001b[0m.\u001b[0m.\u001b[0m.\u001b[0m.\u001b[0m.\u001b[0m.\u001b[0m.\u001b[0m.\u001b[0m.\u001b[0m.\u001b[0m.\u001b[0m.\u001b[0m.\u001b[0m.\u001b[0m.\u001b[0m.\u001b[0m.\u001b[0m.\u001b[0m.\u001b[0m.\u001b[0m.\u001b[0m.\u001b[0m.\u001b[0m.\u001b[0m.\u001b[0m.\u001b[0m.\u001b[0m.\u001b[0m.\u001b[0m.\u001b[0m.\u001b[0m.\u001b[0m.\u001b[0m.\u001b[0m.\u001b[0m.\u001b[0m.\u001b[0m.\u001b[0m.\u001b[0m.\u001b[0m.\u001b[0m.\u001b[0m.\u001b[0m.\u001b[0m.\u001b[0m.\u001b[0m.\u001b[0m.\u001b[0m.\u001b[0m.\u001b[0m.\u001b[0m.\u001b[0m.\u001b[0m.\u001b[0m.\u001b[0m.\u001b[0m.\u001b[0m.\u001b[0m.\u001b[0m.\u001b[0m.\u001b[0m.\u001b[0m.\u001b[0m.\u001b[0m.\u001b[0m.\u001b[0m.\u001b[0m.\u001b[0m.\u001b[0m.\u001b[0m.\u001b[0m.\u001b[0m.\u001b[0m.\u001b[0m.\u001b[0m.\u001b[0m.\u001b[0m.\u001b[0m.\u001b[0m.\u001b[0m.\u001b[0m.\u001b[0m.\u001b[0m.\u001b[0m.\u001b[0m.\u001b[0m.\u001b[0m.\u001b[0m.\u001b[0m.\u001b[0m.\u001b[0m.\u001b[0m.\u001b[0m.\u001b[0m.\u001b[0m.\u001b[0m.\u001b[0m.\u001b[0m.\u001b[0m.\u001b[0m.\u001b[0m.\u001b[0m.\u001b[0m.\u001b[0m.\u001b[0m.\u001b[0m.\u001b[0m.\u001b[0m.\u001b[0m.\u001b[0m.\u001b[0m.\u001b[0m.\u001b[0m.\u001b[0m.\u001b[0m.\u001b[0m.\u001b[0m.\u001b[0m.\u001b[0m.\u001b[0m.\u001b[0m.\u001b[0m.\u001b[0m.\u001b[0m.\u001b[0m.\u001b[0m.\u001b[0m.\u001b[0m.\u001b[0m.\u001b[0m.\u001b[0m.\u001b[0m.\u001b[0m.\u001b[0m.\u001b[0m.\u001b[0m.\u001b[0m.\u001b[0m.\u001b[0m.\u001b[0m.\u001b[0m.\u001b[0m.\u001b[0m.\u001b[0m.\u001b[0m.\u001b[0m.\u001b[0m.\u001b[0m.\u001b[0m.\u001b[0m.\u001b[0m.\u001b[0m.\u001b[0m.\u001b[0m.\u001b[0m.\u001b[0m.\u001b[0m.\u001b[0m.\u001b[0m.\u001b[0m.\u001b[0m.\u001b[0m.\u001b[0m.\u001b[0m.\u001b[0m.\u001b[0m.\u001b[0m.\u001b[0m.\u001b[0m.\u001b[0m.\u001b[0m.\u001b[0m.\u001b[0m.\u001b[0m.\u001b[0m.\u001b[0m.\u001b[0m.\u001b[0m.\u001b[0m.\u001b[0m.\u001b[0m.\u001b[0m.\u001b[0m.\u001b[0m.\u001b[0m.\u001b[0m.\u001b[0m.\u001b[0m.\u001b[0m.\u001b[0m.\u001b[0m.\u001b[0m.\u001b[0m.\u001b[0m.\u001b[0m.\u001b[0m.\u001b[0m.\u001b[0m.\u001b[0m.\u001b[0m.\u001b[0m.\u001b[0m.\u001b[0m.\u001b[0m.\u001b[0m.\u001b[0m.\u001b[0m.\u001b[0m.\u001b[0m.\u001b[0m.\u001b[0m.\u001b[0m.\u001b[0m.\u001b[0m.\u001b[0m.\u001b[0m.\u001b[0m.\u001b[0m.\u001b[0m.\u001b[0m.\u001b[0m.\u001b[0m.\u001b[0m.\u001b[0m.\u001b[0m.\u001b[0m.\u001b[0m.\u001b[0m.\u001b[0m.\u001b[0m.\u001b[0m.\u001b[0m.\u001b[0m.\u001b[0m.\u001b[0m.\u001b[0m.\u001b[0m.\u001b[0m.\u001b[0m.\u001b[0m.\u001b[0m.\u001b[0m.\u001b[0m.\u001b[0m.\u001b[0m.\u001b[0m.\u001b[0m.\u001b[0m.\u001b[0m.\u001b[0m.\u001b[0m.\u001b[0m.\u001b[0m.\u001b[0m.\u001b[0m.\u001b[0m.\u001b[0m.\u001b[0m.\u001b[0m.\u001b[0m.\u001b[0m.\u001b[0m.\u001b[0m.\u001b[0m.\u001b[0m.\u001b[0m.\u001b[0m.\u001b[0m.\u001b[0m.\u001b[0m.\u001b[0m.\u001b[0m.\u001b[0m.\u001b[0m.\u001b[0m.\u001b[0m.\u001b[0m.\u001b[0m.\u001b[0m.\u001b[0m.\u001b[0m.\u001b[0m.\u001b[0m.\u001b[0m.\u001b[0m.\u001b[0m.\u001b[0m.\u001b[0m.\u001b[0m.\u001b[0m.\u001b[0m.\u001b[0m.\u001b[0m.\u001b[0m.\u001b[0m.\u001b[0m.\u001b[0m.\u001b[0m.\u001b[0m.\u001b[0m.\u001b[0m.\u001b[0m.\u001b[0m.\u001b[0m.\u001b[0m.\u001b[0m.\u001b[0m.\u001b[0m.\u001b[0m.\u001b[0m.\u001b[0m.\u001b[0m.\u001b[0m.\u001b[0m.\u001b[0m.\u001b[0m.\u001b[0m.\u001b[0m.\u001b[0m.\u001b[0m.\u001b[0m.\u001b[0m.\u001b[0m.\u001b[0m.\u001b[0m.\u001b[0m.\u001b[0m.\u001b[0m.\u001b[0m.\u001b[0m.\u001b[0m.\u001b[0m.\u001b[0m.\u001b[0m.\u001b[0m.\u001b[0m.\u001b[0m.\u001b[0m.\u001b[0m.\u001b[0m.\u001b[0m.\u001b[0m.\u001b[0m.\u001b[0m.\u001b[0m.\u001b[0m.\u001b[0m.\u001b[0m.\u001b[0m.\u001b[0m.\u001b[0m.\u001b[0m.\u001b[0m.\u001b[0m.\u001b[0m.\u001b[0m.\u001b[0m.\u001b[0m.\u001b[0m.\u001b[0m.\u001b[0m.\u001b[0m.\u001b[0m.\u001b[0m.\u001b[0m.\u001b[0m.\u001b[0m.\u001b[0m.\u001b[0m.\u001b[0m.\u001b[0m.\u001b[0m.\u001b[0m.\u001b[0m.\u001b[0m.\u001b[0m.\u001b[0m.\u001b[0m.\u001b[0m.\u001b[0m.\u001b[0m.\u001b[0m.\u001b[0m.\u001b[0m.\u001b[0m.\u001b[0m.\u001b[0m.\u001b[0m.\u001b[0m.\u001b[0m.\u001b[0m.\u001b[0m.\u001b[0m.\u001b[0m.\u001b[0m.\u001b[0m.\u001b[0m.\u001b[0m.\u001b[0m.\u001b[0m.\u001b[0m.\u001b[0m.\u001b[0m.\u001b[0m.\u001b[0m.\u001b[0m.\u001b[0m.\u001b[0m.\u001b[0m.\u001b[0m.\u001b[0m.\u001b[0m.\u001b[0m.\u001b[0m.\u001b[0m.\u001b[0m.\u001b[0m.\u001b[0m.\u001b[0m.\u001b[0m.\u001b[0m.\u001b[0m.\u001b[0m.\u001b[0m.\u001b[0m.\u001b[0m.\u001b[0m.\u001b[0m.\u001b[0m.\u001b[0m.\u001b[0m.\u001b[0m.\u001b[0m.\u001b[0m.\u001b[0m.\u001b[0m.\u001b[0m.\u001b[0m.\u001b[0m.\u001b[0m.\u001b[0m.\u001b[0m.\u001b[0m.\u001b[0m.\u001b[0m.\u001b[0m.\u001b[0m.\u001b[0m.\u001b[0m.\u001b[0m.\u001b[0m.\u001b[0m.\u001b[0m.\u001b[0m.\u001b[0m.\u001b[0m.\u001b[0m.\u001b[0m.\u001b[0m.\u001b[0m.\u001b[0m.\u001b[0m.\u001b[0m.\u001b[0m.\u001b[0m.\u001b[0m.\u001b[0m.\u001b[0m.\u001b[0m.\u001b[0m.\u001b[0m.\u001b[0m.\u001b[0m.\u001b[0m.\u001b[0m.\u001b[0m.\u001b[0m.\u001b[0m.\u001b[0m.\u001b[0m.\u001b[0m.\u001b[0m.\u001b[0m.\u001b[0m.\u001b[0m.\u001b[0m.\u001b[0m.\u001b[0m.\u001b[0m.\u001b[0m.\u001b[0m.\u001b[0m.\u001b[0m.\u001b[0m.\u001b[0m.\u001b[0m.\u001b[0m.\u001b[0m.\u001b[0m.\u001b[0m.\u001b[0m.\u001b[0m.\u001b[0m.\u001b[0m.\u001b[0m.\u001b[0m.\u001b[0m.\u001b[0m.\u001b[0m.\u001b[0m.\u001b[0m.\u001b[0m.\u001b[0m.\u001b[0m.\u001b[0m.\u001b[0m.\u001b[0m.\u001b[0m.\u001b[0m.\u001b[0m.\u001b[0m.\u001b[0m.\u001b[0m.\u001b[0m.\u001b[0m.\u001b[0m.\u001b[0m.\u001b[0m.\u001b[0m.\u001b[0m.\u001b[0m.\u001b[0m.\u001b[0m.\u001b[0m.\u001b[0m.\u001b[0m.\u001b[0m.\u001b[0m.\u001b[0m.\u001b[0m.\u001b[0m.\u001b[0m.\u001b[0m.\u001b[0m.\u001b[0m.\u001b[0m.\u001b[0m.\u001b[0m.\u001b[0m.\u001b[0m.\u001b[0m.\u001b[0m.\u001b[0m.\u001b[0m.\u001b[0m.\u001b[0m.\u001b[0m.\u001b[0m.\u001b[0m.\u001b[0m.\u001b[0m.\u001b[0m.\u001b[0m.\u001b[0m.\u001b[0m.\u001b[0m.\u001b[0m.\u001b[0m.\u001b[0m.\u001b[0m.\u001b[0m.\u001b[0m.\u001b[0m.\u001b[0m.\u001b[0m.\u001b[0m.\u001b[0m.\u001b[0m.\u001b[0m.\u001b[0m.\u001b[0m.\u001b[0m.\u001b[0m.\u001b[0m.\u001b[0m.\u001b[0m.\u001b[0m.\u001b[0m.\u001b[0m.\u001b[0m.\u001b[0m.\u001b[0m.\u001b[0m.\u001b[0m.\u001b[0m.\u001b[0m.\u001b[0m.\u001b[0m.\u001b[0m.\u001b[0m.\u001b[0m.\u001b[0m.\u001b[0m.\u001b[0m.\u001b[0m.\u001b[0m.\u001b[0m.\u001b[0m.\u001b[0m.\u001b[0m.\u001b[0m.\u001b[0m.\u001b[0m.\u001b[0m.\u001b[0m.\u001b[0m.\u001b[0m.\u001b[0m.\u001b[0m.\u001b[0m.\u001b[0m.\u001b[0m.\u001b[0m.\u001b[0m.\u001b[0m.\u001b[0m.\u001b[0m.\u001b[0m.\u001b[0m.\u001b[0m.\u001b[0m.\u001b[0m.\u001b[0m.\u001b[0m.\u001b[0m.\u001b[0m.\u001b[0m.\u001b[0m.\u001b[0m.\u001b[0m.\u001b[0m.\u001b[0m.\u001b[0m.\u001b[0m.\u001b[0m.\u001b[0m.\u001b[0m.\u001b[0m.\u001b[0m.\u001b[0m.\u001b[0m.\u001b[0m.\u001b[0m.\u001b[0m.\u001b[0m.\u001b[0m.\u001b[0m.\u001b[0m.\u001b[0m.\u001b[0m.\u001b[0m.\u001b[0m.\u001b[0m.\u001b[0m.\u001b[0m.\u001b[0m.\u001b[0m.\u001b[0m.\u001b[0m.\u001b[0m.\u001b[0m.\u001b[0m.\u001b[0m.\u001b[0m.\u001b[0m.\u001b[0m.\u001b[0m.\u001b[0m.\u001b[0m.\u001b[0m.\u001b[0m.\u001b[0m.\u001b[0m.\u001b[0m.\u001b[0m.\u001b[0m.\u001b[0m.\u001b[0m.\u001b[0m.\u001b[0m.\u001b[0m.\u001b[0m.\u001b[0m.\u001b[0m.\u001b[0m.\u001b[0m.\u001b[0m.\u001b[0m.\u001b[0m.\u001b[0m.\u001b[0m.\u001b[0m.\u001b[0m.\u001b[0m.\u001b[0m.\u001b[0m.\u001b[0m.\u001b[0m.\u001b[0m.\u001b[0m.\u001b[0m.\u001b[0m.\u001b[0m.\u001b[0m.\u001b[0m.\u001b[0m.\u001b[0m.\u001b[0m.\u001b[0m.\u001b[0m.\u001b[0m.\u001b[0m.\u001b[0m.\u001b[0m.\u001b[0m.\u001b[0m.\u001b[0m.\u001b[0m.\u001b[0m.\u001b[0m.\u001b[0m.\u001b[0m.\u001b[0m.\u001b[0m.\u001b[0m.\u001b[0m.\u001b[0m.\u001b[0m.\u001b[0m.\u001b[0m.\u001b[0m.\u001b[0m.\u001b[0m.\u001b[0m.\u001b[0m.\u001b[0m.\u001b[0m.\u001b[0m.\u001b[0m.\u001b[0m.\u001b[0m.\u001b[0m.\u001b[0m.\u001b[0m.\u001b[0m.\u001b[0m.\u001b[0m.\u001b[0m.\u001b[0m.\u001b[0m.\u001b[0m.\u001b[0m.\u001b[0m.\u001b[0m.\u001b[0m.\u001b[0m.\u001b[0m.\u001b[0m.\u001b[0m.\u001b[0m.\u001b[0m.\u001b[0m.\u001b[0m.\u001b[0m.\u001b[0m.\u001b[0m.\u001b[0m.\u001b[0m.\u001b[0m.\u001b[0m.\u001b[0m.\u001b[0m.\u001b[0m.\u001b[0m.\u001b[0m.\u001b[0m.\u001b[0m.\u001b[0m.\u001b[0m.\u001b[0m.\u001b[0m.\u001b[0m.\u001b[0m.\u001b[0m.\u001b[0m.\u001b[0m.\u001b[0m.\u001b[0m.\u001b[0m.\u001b[0m.\u001b[0m.\u001b[0m.\u001b[0m.\u001b[0m.\u001b[0m.\u001b[0m.\u001b[0m.\u001b[0m.\u001b[0m.\u001b[0m.\u001b[0m.\u001b[0m.\u001b[0m.\u001b[0m.\u001b[0m.\u001b[0m.\u001b[0m.\u001b[0m.\u001b[0m.\u001b[0m.\u001b[0m.\u001b[0m.\u001b[0m.\u001b[0m.\u001b[0m.\u001b[0m.\u001b[0m.\u001b[0m.\u001b[0m.\u001b[0m.\u001b[0m.\u001b[0m.\u001b[0m.\u001b[0m.\u001b[0m.\u001b[0m.\u001b[0m.\u001b[0m.\u001b[0m.\u001b[0m.\u001b[0m.\u001b[0m.\u001b[0m.\u001b[0m.\u001b[0m.\u001b[0m.\u001b[0m.\u001b[0m.\u001b[0m.\u001b[0m.\u001b[0m.\u001b[0m.\u001b[0m.\u001b[0m.\u001b[0m.\u001b[0m.\u001b[0m.\u001b[0m.\u001b[0m.\u001b[0m.\u001b[0m.\u001b[0m.\u001b[0m.\u001b[0m.\u001b[0m.\u001b[0m.\u001b[0m.\u001b[0m.\u001b[0m.\u001b[0m.\u001b[0m.\u001b[0m.\u001b[0m.\u001b[0m.\u001b[0m.\u001b[0m.\u001b[0m.\u001b[0m.\u001b[0m.\u001b[0m.\u001b[0m.\u001b[0m.\u001b[0m.\u001b[0m.\u001b[0m.\u001b[0m.\u001b[0m.\u001b[0m.\u001b[0m.\u001b[0m.\u001b[0m.\u001b[0m.\u001b[0m.\u001b[0m.\u001b[0m.\u001b[0m.\u001b[0m.\u001b[0m.\u001b[0m.\u001b[0m.\u001b[0m.\u001b[0m.\u001b[0m.\u001b[0m.\u001b[0m.\u001b[0m.\u001b[0m.\u001b[0m.\u001b[0m.\u001b[0m.\u001b[0m.\u001b[0m.\u001b[0m.\u001b[0m.\u001b[0m.\u001b[0m.\u001b[0m.\u001b[0m.\u001b[0m.\u001b[0m.\u001b[0m.\u001b[0m.\u001b[0m.\u001b[0m.\u001b[0m.\u001b[0m.\u001b[0m.\u001b[0m.\u001b[0m.\u001b[0m.\u001b[0m.\u001b[0m.\u001b[0m.\u001b[0m.\u001b[0m.\u001b[0m.\u001b[0m.\u001b[0m.\u001b[0m.\u001b[0m.\u001b[0m.\u001b[0m.\u001b[0m.\u001b[0m.\u001b[0m.\u001b[0m.\u001b[0m.\u001b[0m.\u001b[0m.\u001b[0m.\u001b[0m.\u001b[0m.\u001b[0m.\u001b[0m.\u001b[0m.\u001b[0m.\u001b[0m.\u001b[0m.\u001b[0m.\u001b[0m.\u001b[0m.\u001b[0m.\u001b[0m.\u001b[0m.\u001b[0m.\u001b[0m.\u001b[0m.\u001b[0m.\u001b[0m.\u001b[0m.\u001b[0m.\u001b[0m.\u001b[0m.\u001b[0m.\u001b[0m.\u001b[0m.\u001b[0m.\u001b[0m.\u001b[0m.\u001b[0m.\u001b[0m.\u001b[0m.\u001b[0m.\u001b[0m.\u001b[0m.\u001b[0m.\u001b[0m.\u001b[0m.\u001b[0m.\u001b[0m.\u001b[0m.\u001b[0m.\u001b[0m.\u001b[0m.\u001b[0m.\u001b[0m.\u001b[0m.\u001b[0m.\u001b[0m.\u001b[0m.\u001b[0m.\u001b[0m.\u001b[0m.\u001b[0m.\u001b[0m.\u001b[0m.\u001b[0m.\u001b[0m.\u001b[0m.\u001b[0m.\u001b[0m.\u001b[0m.\u001b[0m.\u001b[0m.\u001b[0m.\u001b[0m.\u001b[0m.\u001b[0m.\u001b[0m.\u001b[0m.\u001b[0m.\u001b[0m.\u001b[0m.\u001b[0m.\u001b[0m.\u001b[0m.\u001b[0m.\u001b[0m.\u001b[0m.\u001b[0m.\u001b[0m.\u001b[0m.\u001b[0m.\u001b[0m.\u001b[0m.\u001b[0m.\u001b[0m.\u001b[0m.\u001b[0m.\u001b[0m.\u001b[0m.\u001b[0m.\u001b[0m.\u001b[0m.\u001b[0m.\u001b[0m.\u001b[0m.\u001b[0m.\u001b[0m.\u001b[0m.\u001b[0m.\u001b[0m.\u001b[0m.\u001b[0m.\u001b[0m.\u001b[0m.\u001b[0m.\u001b[0m.\u001b[0m.\u001b[0m.\u001b[0m.\u001b[0m.\u001b[0m.\u001b[0m.\u001b[0m.\u001b[0m.\u001b[0m.\u001b[0m.\u001b[0m.\u001b[0m.\u001b[0m.\u001b[0m.\u001b[0m.\u001b[0m.\u001b[0m.\u001b[0m.\u001b[0m.\u001b[0m.\u001b[0m.\u001b[0m.\u001b[0m.\u001b[0m.\u001b[0m.\u001b[0m.\u001b[0m.\u001b[0m.\u001b[0m.\u001b[0m.\u001b[0m.\u001b[0m.\u001b[0m.\u001b[0m.\u001b[0m.\u001b[0m.\u001b[0m.\u001b[0m.\u001b[0m.\u001b[0m.\u001b[0m.\u001b[0m.\u001b[0m.\u001b[0m.\u001b[0m.\u001b[0m.\u001b[0m.\u001b[0m.\u001b[0m.\u001b[0m.\u001b[0m.\u001b[0m.\u001b[0m.\u001b[0m.\u001b[0m.\u001b[0m.\u001b[0m.\u001b[0m.\u001b[0m.\u001b[0m.\u001b[0m.\u001b[0m.\u001b[0m.\u001b[0m.\u001b[0m.\u001b[0m.\u001b[0m.\u001b[0m.\u001b[0m.\u001b[0m.\u001b[0m.\u001b[0m.\u001b[0m.\u001b[0m.\u001b[0m.\u001b[0m.\u001b[0m.\u001b[0m.\u001b[0m.\u001b[0m.\u001b[0m.\u001b[0m.\u001b[0m.\u001b[0m.\u001b[0m.\u001b[0m.\u001b[0m.\u001b[0m.\u001b[0m.\u001b[0m.\u001b[0m.\u001b[0m.\u001b[0m.\u001b[0m.\u001b[0m.\u001b[0m.\u001b[0m.\u001b[0m.\u001b[0m.\u001b[0m.\u001b[0m.\u001b[0m.\u001b[0m.\u001b[0m.\u001b[0m.\u001b[0m.\u001b[0m.\u001b[0m.\u001b[0m.\u001b[0m.\u001b[0m.\u001b[0m.\u001b[0m.\u001b[0m.\u001b[0m.\u001b[0m.\u001b[0m.\u001b[0m.\u001b[0m.\u001b[0m.\u001b[0m.\u001b[0m.\u001b[0m.\u001b[0m.\u001b[0m.\u001b[0m.\u001b[0m.\u001b[0m.\u001b[0m.\u001b[0m.\u001b[0m.\u001b[0m.\u001b[0m.\u001b[0m.\u001b[0m.\u001b[0m.\u001b[0m.\u001b[0m.\u001b[0m.\u001b[0m.\u001b[0m.\u001b[0m.\u001b[0m.\u001b[0m.\u001b[0m.\u001b[0m.\u001b[0m.\u001b[0m.\u001b[0m.\u001b[0m.\u001b[0m.\u001b[0m.\u001b[0m.\u001b[0m.\u001b[0m.\u001b[0m.\u001b[0m.\u001b[0m.\u001b[0m.\u001b[0m.\u001b[0m.\u001b[0m.\u001b[0m.\u001b[0m.\u001b[0m.\u001b[0m.\u001b[0m.\u001b[0m.\u001b[0m.\u001b[0m.\u001b[0m.\u001b[0m.\u001b[0m.\u001b[0m.\u001b[0m.\u001b[0m.\u001b[0m.\u001b[0m.\u001b[0m.\u001b[0m.\u001b[0m.\u001b[0m.\u001b[0m.\u001b[0m.\u001b[0m.\u001b[0m.\u001b[0m.\u001b[0m.\u001b[0m.\u001b[0m.\u001b[0m.\u001b[0m.\u001b[0m.\u001b[0m.\u001b[0m.\u001b[0m.\u001b[0m.\u001b[0m.\u001b[0m.\u001b[0m.\u001b[0m.\u001b[0m.\u001b[0m.\u001b[0m.\u001b[0m.\u001b[0m.\u001b[0m.\u001b[0m.\u001b[0m.\u001b[0m.\u001b[0m.\u001b[0m.\u001b[0m.\u001b[0m.\u001b[0m.\u001b[0m.\u001b[0m.\u001b[0m.\u001b[0m.\u001b[0m.\u001b[0m.\u001b[0m.\u001b[0m.\u001b[0m.\u001b[0m.\u001b[0m.\u001b[0m.\u001b[0m.\u001b[0m.\u001b[0m.\u001b[0m.\u001b[0m.\u001b[0m.\u001b[0m.\u001b[0m.\u001b[0m.\u001b[0m.\u001b[0m.\u001b[0m.\u001b[0m.\u001b[0m.\u001b[0m.\u001b[0m.\u001b[0m.\u001b[0m.\u001b[0m.\u001b[0m.\u001b[0m.\u001b[0m.\u001b[0m.\u001b[0m.\u001b[0m.\u001b[0m.\u001b[0m.\u001b[0m.\u001b[0m.\u001b[0m.\u001b[0m.\u001b[0m.\u001b[0m.\u001b[0m.\u001b[0m.\u001b[0m.\u001b[0m.\u001b[0m.\u001b[0m.\u001b[0m.\u001b[0m.\u001b[0m.\u001b[0m.\u001b[0m.\u001b[0m.\u001b[0m.\u001b[0m.\u001b[0m.\u001b[0m.\u001b[0m.\u001b[0m.\u001b[0m.\u001b[0m.\u001b[0m.\u001b[0m.\u001b[0m.\u001b[0m.\u001b[0m.\u001b[0m.\u001b[0m.\u001b[0m.\u001b[0m.\u001b[0m.\u001b[0m.\u001b[0m.\u001b[0m.\u001b[0m.\u001b[0m.\u001b[0m.\u001b[0m.\u001b[0m.\u001b[0m.\u001b[0m.\u001b[0m.\u001b[0m.\u001b[0m.\u001b[0m.\u001b[0m.\u001b[0m.\u001b[0m.\u001b[0m.\u001b[0m.\u001b[0m.\u001b[0m.\u001b[0m.\u001b[0m.\u001b[0m.\u001b[0m.\u001b[0m.\u001b[0m.\u001b[0m.\u001b[0m.\u001b[0m.\u001b[0m.\u001b[0m.\u001b[0m.\u001b[0m.\u001b[0m.\u001b[0m.\u001b[0m.\u001b[0m.\u001b[0m.\u001b[0m.\u001b[0m.\u001b[0m.\u001b[0m.\u001b[0m.\u001b[0m.\u001b[0m.\u001b[0m.\u001b[0m.\u001b[0m.\u001b[0m.\u001b[0m.\u001b[0m.\u001b[0m.\u001b[0m.\u001b[0m.\u001b[0m.\u001b[0m.\u001b[0m.\u001b[0m.\u001b[0m.\u001b[0m.\u001b[0m.\u001b[0m.\u001b[0m.\u001b[0m.\u001b[0m.\u001b[0m.\u001b[0m.\u001b[0m.\u001b[0m.\u001b[0m.\u001b[0m.\u001b[0m.\u001b[0m.\u001b[0m.\u001b[0m.\u001b[0m.\u001b[0m.\u001b[0m.\u001b[0m.\u001b[0m.\u001b[0m.\u001b[0m.\u001b[0m.\u001b[0m.\u001b[0m.\u001b[0m.\u001b[0m.\u001b[0m.\u001b[0m.\u001b[0m.\u001b[0m.\u001b[0m.\u001b[0m.\u001b[0m.\u001b[0m.\u001b[0m.\u001b[0m.\u001b[0m.\u001b[0m.\u001b[0m.\u001b[0m.\u001b[0m.\u001b[0m.\u001b[0m.\u001b[0m.\u001b[0m.\u001b[0m.\u001b[0m.\u001b[0m.\u001b[0m.\u001b[0m.\u001b[0m.\u001b[0m.\u001b[0m.\u001b[0m.\u001b[0m.\u001b[0m.\u001b[0m.\u001b[0m.\u001b[0m.\u001b[0m.\u001b[0m.\u001b[0m.\u001b[0m.\u001b[0m.\u001b[0m.\u001b[0m.\u001b[0m.\u001b[0m.\u001b[0m.\u001b[0m.\u001b[0m.\u001b[0m.\u001b[0m.\u001b[0m.\u001b[0m.\u001b[0m.\u001b[0m.\u001b[0m.\u001b[0m.\u001b[0m.\u001b[0m.\u001b[0m.\u001b[0m.\u001b[0m.\u001b[0m.\u001b[0m.\u001b[0m.\u001b[0m.\u001b[0m.\u001b[0m.\u001b[0m.\u001b[0m.\u001b[0m.\u001b[0m.\u001b[0m.\u001b[0m.\u001b[0m.\u001b[0m.\u001b[0m.\u001b[0m.\u001b[0m.\u001b[0m.\u001b[0m.\u001b[0m.\u001b[0m.\u001b[0m.\u001b[0m.\u001b[0m.\u001b[0m.\u001b[0m.\u001b[0m.\u001b[0m.\u001b[0m.\u001b[0m.\u001b[0m.\u001b[0m.\u001b[0m.\u001b[0m.\u001b[0m.\u001b[0m.\u001b[0m.\u001b[0m.\u001b[0m.\u001b[0m.\u001b[0m.\u001b[0m.\u001b[0m.\u001b[0m.\u001b[0m.\u001b[0m.\u001b[0m.\u001b[0m.\u001b[0m.\u001b[0m.\u001b[0m.\u001b[0m.\u001b[0m.\u001b[0m.\u001b[0m.\u001b[0m.\u001b[0m.\u001b[0m.\u001b[0m.\u001b[0m.\u001b[0m.\u001b[0m.\u001b[0m.\u001b[0m.\u001b[0m.\u001b[0m.\u001b[0m.\u001b[0m.\u001b[0m.\u001b[0m.\u001b[0m.\u001b[0m.\u001b[0m.\u001b[0m.\u001b[0m.\u001b[0m.\u001b[0m.\u001b[0m.\u001b[0m.\u001b[0m.\u001b[0m.\u001b[0m.\u001b[0m.\u001b[0m.\u001b[0m.\u001b[0m.\u001b[0m.\u001b[0m.\u001b[0m.\u001b[0m.\u001b[0m.\u001b[0m.\u001b[0m.\u001b[0m.\u001b[0m.\u001b[0m.\u001b[0m.\u001b[0m.\u001b[0m.\u001b[0m.\u001b[0m.\u001b[0m.\u001b[0m.\u001b[0m.\u001b[0m.\u001b[0m.\u001b[0m.\u001b[0m.\u001b[0m.\u001b[0m.\u001b[0m.\u001b[0m.\u001b[0m.\u001b[0m.\u001b[0m.\u001b[0m.\u001b[0m.\u001b[0m.\u001b[0m.\u001b[0m.\u001b[0m.\u001b[0m.\u001b[0m.\u001b[0m.\u001b[0m.\u001b[0m.\u001b[0m.\u001b[0m.\u001b[0m.\u001b[0m.\u001b[0m.\u001b[0m.\u001b[0m.\u001b[0m.\u001b[0m.\u001b[0m.\u001b[0m.\u001b[0m.\u001b[0m.\u001b[0m.\u001b[0m.\u001b[0m.\u001b[0m.\u001b[0m.\u001b[0m.\u001b[0m.\u001b[0m.\u001b[0m.\u001b[0m.\u001b[0m.\u001b[0m.\u001b[0m.\u001b[0m.\u001b[0m.\u001b[0m.\u001b[0m.\u001b[0m.\u001b[0m.\u001b[0m.\u001b[0m.\u001b[0m.\u001b[0m.\u001b[0m.\u001b[0m.\u001b[0m.\u001b[0m.\u001b[0m.\u001b[0m.\u001b[0m.\u001b[0m.\u001b[0m.\u001b[0m.\u001b[0m.\u001b[0m.\u001b[0m.\u001b[0m.\u001b[0m.\u001b[0m.\u001b[0m.\u001b[0m.\u001b[0m.\u001b[0m.\u001b[0m.\u001b[0m.\u001b[0m.\u001b[0m.\u001b[0m.\u001b[0m.\u001b[0m.\u001b[0m.\u001b[0m.\u001b[0m.\u001b[0m.\u001b[0m.\u001b[0m.\u001b[0m.\u001b[0m.\u001b[0m.\u001b[0m.\u001b[0m.\u001b[0m.\u001b[0m.\u001b[0m.\u001b[0m.\u001b[0m.\u001b[0m.\u001b[0m.\u001b[0m.\u001b[0m.\u001b[0m.\u001b[0m.\u001b[0m.\u001b[0m.\u001b[0m.\u001b[0m.\u001b[0m.\u001b[0m.\u001b[0m.\u001b[0m.\u001b[0m.\u001b[0m.\u001b[0m.\u001b[0m.\u001b[0m.\u001b[0m.\u001b[0m.\u001b[0m.\u001b[0m.\u001b[0m.\u001b[0m.\u001b[0m.\u001b[0m.\u001b[0m.\u001b[0m.\u001b[0m.\u001b[0m.\u001b[0m.\u001b[0m.\u001b[0m.\u001b[0m.\u001b[0m.\u001b[0m.\u001b[0m.\u001b[0m.\u001b[0m.\u001b[0m.\u001b[0m.\u001b[0m.\u001b[0m.\u001b[0m.\u001b[0m.\u001b[0m.\u001b[0m.\u001b[0m.\u001b[0m.\u001b[0m.\u001b[0m.\u001b[0m.\u001b[0m.\u001b[0m.\u001b[0m.\u001b[0m.\u001b[0m.\u001b[0m.\u001b[0m.\u001b[0m.\u001b[0m.\u001b[0m.\u001b[0m.\u001b[0m.\u001b[0m.\u001b[0m.\u001b[0m.\u001b[0m.\u001b[0m.\u001b[0m.\u001b[0m.\u001b[0m.\u001b[0m.\u001b[0m.\u001b[0m.\u001b[0m.\u001b[0m.\u001b[0m.\u001b[0m.\u001b[0m.\u001b[0m.\u001b[0m.\u001b[0m.\u001b[0m.\u001b[0m.\u001b[0m.\u001b[0m.\u001b[0m.\u001b[0m.\u001b[0m.\u001b[0m.\u001b[0m.\u001b[0m.\u001b[0m.\u001b[0m.\u001b[0m.\u001b[0m.\u001b[0m.\u001b[0m.\u001b[0m.\u001b[0m.\u001b[0m.\u001b[0m.\u001b[0m.\u001b[0m.\u001b[0m.\u001b[0m.\u001b[0m.\u001b[0m.\u001b[0m.\u001b[0m.\u001b[0m.\u001b[0m.\u001b[0m.\u001b[0m.\u001b[0m.\u001b[0m.\u001b[0m.\u001b[0m.\u001b[0m.\u001b[0m.\u001b[0m.\u001b[0m.\u001b[0m.\u001b[0m.\u001b[0m.\u001b[0m.\u001b[0m.\u001b[0m.\u001b[0m.\u001b[0m.\u001b[0m.\u001b[0m.\u001b[0m.\u001b[0m.\u001b[0m.\u001b[0m.\u001b[0m.\u001b[0m.\u001b[0m.\u001b[0m.\u001b[0m.\u001b[0m.\u001b[0m.\u001b[0m.\u001b[0m.\u001b[0m.\u001b[0m.\u001b[0m.\u001b[0m.\u001b[0m.\u001b[0m.\u001b[0m.\u001b[0m.\u001b[0m.\u001b[0m.\u001b[0m.\u001b[0m.\u001b[0m.\u001b[0m.\u001b[0m.\u001b[0m.\u001b[0m.\u001b[0m.\u001b[0m.\u001b[0m.\u001b[0m.\u001b[0m.\u001b[0m.\u001b[0m.\u001b[0m.\u001b[0m.\u001b[0m.\u001b[0m.\u001b[0m.\u001b[0m.\u001b[0m.\u001b[0m.\u001b[0m.\u001b[0m.\u001b[0m.\u001b[0m.\u001b[0m.\u001b[0m.\u001b[0m.\u001b[0m.\u001b[0m.\u001b[0m.\u001b[0m.\u001b[0m.\u001b[0m.\u001b[0m.\u001b[0m.\u001b[0m.\u001b[0m.\u001b[0m.\u001b[0m.\u001b[0m.\u001b[0m.\u001b[0m.\u001b[0m.\u001b[0m.\u001b[0m.\u001b[0m.\u001b[0m.\u001b[0m.\u001b[0m.\u001b[0m.\u001b[0m.\u001b[0m.\u001b[0m.\u001b[0m.\u001b[0m.\u001b[0m.\u001b[0m.\u001b[0m.\u001b[0m.\u001b[0m.\u001b[0m.\u001b[0m.\u001b[0m.\u001b[0m.\u001b[0m.\u001b[0m.\u001b[0m.\u001b[0m.\u001b[0m.\u001b[0m.\u001b[0m.\u001b[0m.\u001b[0m.\u001b[0m.\u001b[0m.\u001b[0m.\u001b[0m.\u001b[0m.\u001b[0m.\u001b[0m.\u001b[0m.\u001b[0m.\u001b[0m.\u001b[0m.\u001b[0m.\u001b[0m.\u001b[0m.\u001b[0m.\u001b[0m.\u001b[0m.\u001b[0m.\u001b[0m.\u001b[0m.\u001b[0m.\u001b[0m.\u001b[0m.\u001b[0m.\u001b[0m.\u001b[0m.\u001b[0m.\u001b[0m.\u001b[0m.\u001b[0m.\u001b[0m.\u001b[0m.\u001b[0m.\u001b[0m.\u001b[0m.\u001b[0m.\u001b[0m.\u001b[0m.\u001b[0m.\u001b[0m.\u001b[0m.\u001b[0m.\u001b[0m.\u001b[0m.\u001b[0m.\u001b[0m.\u001b[0m.\u001b[0m.\u001b[0m.\u001b[0m.\u001b[0m.\u001b[0m.\u001b[0m.\u001b[0m.\u001b[0m.\u001b[0m.\u001b[0m.\u001b[0m.\u001b[0m.\u001b[0m.\u001b[0m.\u001b[0m.\u001b[0m.\u001b[0m.\u001b[0m.\u001b[0m.\u001b[0m.\u001b[0m.\u001b[0m.\u001b[0m.\u001b[0m.\u001b[0m.\u001b[0m.\u001b[0m.\u001b[0m.\u001b[0m.\u001b[0m.\u001b[0m.\u001b[0m.\u001b[0m.\u001b[0m.\u001b[0m.\u001b[0m.\u001b[0m.\u001b[0m.\u001b[0m.\u001b[0m.\u001b[0m.\u001b[0m.\u001b[0m.\u001b[0m.\u001b[0m.\u001b[0m.\u001b[0m.\u001b[0m.\u001b[0m.\u001b[0m.\u001b[0m.\u001b[0m.\u001b[0m.\u001b[0m.\u001b[0m.\u001b[0m.\u001b[0m.\u001b[0m.\u001b[0m.\u001b[0m.\u001b[0m.\u001b[0m.\u001b[0m.\u001b[0m.\u001b[0m.\u001b[0m.\u001b[0m.\u001b[0m.\u001b[0m.\u001b[0m.\u001b[0m.\u001b[0m.\u001b[0m.\u001b[0m.\u001b[0m.\u001b[0m.\u001b[0m.\u001b[0m.\u001b[0m.\u001b[0m.\u001b[0m.\u001b[0m.\u001b[0m.\u001b[0m.\u001b[0m.\u001b[0m.\u001b[0m.\u001b[0m.\u001b[0m.\u001b[0m.\u001b[0m.\u001b[0m.\u001b[0m.\u001b[0m.\u001b[0m.\u001b[0m.\u001b[0m.\u001b[0m.\u001b[0m.\u001b[0m.\u001b[0m.\u001b[0m.\u001b[0m.\u001b[0m.\u001b[0m.\u001b[0m.\u001b[0m.\u001b[0m.\u001b[0m.\u001b[0m.\u001b[0m.\u001b[0m.\u001b[0m.\u001b[0m.\u001b[0m.\u001b[0m.\u001b[0m.\u001b[0m.\u001b[0m.\u001b[0m.\u001b[0m.\u001b[0m.\u001b[0m.\u001b[0m.\u001b[0m.\u001b[0m.\u001b[0m.\u001b[0m.\u001b[0m.\u001b[0m.\u001b[0m.\u001b[0m.\u001b[0m.\u001b[0m.\u001b[0m.\u001b[0m.\u001b[0m.\u001b[0m.\u001b[0m.\u001b[0m.\u001b[0m.\u001b[0m.\u001b[0m.\u001b[0m.\u001b[0m.\u001b[0m.\u001b[0m.\u001b[0m.\u001b[0m.\u001b[0m.\u001b[0m.\u001b[0m.\u001b[0m.\u001b[0m.\u001b[0m.\u001b[0m.\u001b[0m.\u001b[0m.\u001b[0m.\u001b[0m.\u001b[0m.\u001b[0m.\u001b[0m.\u001b[0m.\u001b[0m.\u001b[0m.\u001b[0m.\u001b[0m.\u001b[0m.\u001b[0m.\u001b[0m.\u001b[0m.\u001b[0m.\u001b[0m.\u001b[0m.\u001b[0m.\u001b[0m.\u001b[0m.\u001b[0m.\u001b[0m.\u001b[0m.\u001b[0m.\u001b[0m.\u001b[0m.\u001b[0m.\u001b[0m.\u001b[0m.\u001b[0m.\u001b[0m.\u001b[0m.\u001b[0m.\u001b[0m.\u001b[0m.\u001b[0m.\u001b[0m.\u001b[0m.\u001b[0m.\u001b[0m.\u001b[0m.\u001b[0m.\u001b[0m.\u001b[0m.\u001b[0m.\u001b[0m.\u001b[0m.\u001b[0m.\u001b[0m.\u001b[0m.\u001b[0m.\u001b[0m.\u001b[0m.\u001b[0m.\u001b[0m.\u001b[0m.\u001b[0m.\u001b[0m.\u001b[0m.\u001b[0m.\u001b[0m.\u001b[0m.\u001b[0m.\u001b[0m.\u001b[0m.\u001b[0m.\u001b[0m.\u001b[0m.\u001b[0m.\u001b[0m.\u001b[0m.\u001b[0m.\u001b[0m.\u001b[0m.\u001b[0m.\u001b[0m.\u001b[0m.\u001b[0m.\u001b[0m.\u001b[0m.\u001b[0m.\u001b[0m.\u001b[0m.\u001b[0m.\u001b[0m.\u001b[0m.\u001b[0m.\u001b[0m.\u001b[0m.\u001b[0m.\u001b[0m.\u001b[0m.\u001b[0m.\u001b[0m.\u001b[0m.\u001b[0m.\u001b[0m.\u001b[0m.\u001b[0m.\u001b[0m.\u001b[0m.\u001b[0m.\u001b[0m.\u001b[0m.\u001b[0m.\u001b[0m.\u001b[0m.\u001b[0m.\u001b[0m.\u001b[0m.\u001b[0m.\u001b[0m.\u001b[0m.\u001b[0m.\u001b[0m.\u001b[0m.\u001b[0m.\u001b[0m.\u001b[0m.\u001b[0m.\u001b[0m.\u001b[0m.\u001b[0m.\u001b[0m.\u001b[0m.\u001b[0m.\u001b[0m.\u001b[0m.\u001b[0m.\u001b[0m.\u001b[0m.\u001b[0m.\u001b[0m.\u001b[0m.\u001b[0m.\u001b[0m.\u001b[0m.\u001b[0m.\u001b[0m.\u001b[0m.\u001b[0m.\u001b[0m.\u001b[0m.\u001b[0m.\u001b[0m.\u001b[0m.\u001b[0m.\u001b[0m.\u001b[0m.\u001b[0m.\u001b[0m.\u001b[0m.\u001b[0m.\u001b[0m.\u001b[0m.\u001b[0m.\u001b[0m.\u001b[0m.\u001b[0m.\u001b[0m.\u001b[0m.\u001b[0m.\u001b[0m.\u001b[0m.\u001b[0m.\u001b[0m.\u001b[0m.\u001b[0m.\u001b[0m.\u001b[0m.\u001b[0m.\u001b[0m.\u001b[0m.\u001b[0m.\u001b[0m.\u001b[0m.\u001b[0m.\u001b[0m.\u001b[0m.\u001b[0m.\u001b[0m.\u001b[0m.\u001b[0m.\u001b[0m.\u001b[0m.\u001b[0m.\u001b[0m.\u001b[0m.\u001b[0m.\u001b[0m.\u001b[0m.\u001b[0m.\u001b[0m.\u001b[0m.\u001b[0m.\u001b[0m.\u001b[0m.\u001b[0m.\u001b[0m.\u001b[0m.\u001b[0m.\u001b[0m.\u001b[0m.\u001b[0m.\u001b[0m.\u001b[0m.\u001b[0m.\u001b[0m.\u001b[0m.\u001b[0m.\u001b[0m.\u001b[0m.\u001b[0m.\u001b[0m.\u001b[0m.\u001b[0m.\u001b[0m.\u001b[0m.\u001b[0m.\u001b[0m.\u001b[0m.\u001b[0m.\u001b[0m.\u001b[0m.\u001b[0m.\u001b[0m.\u001b[0m.\u001b[0m.\u001b[0m.\u001b[0m.\u001b[0m.\u001b[0m.\u001b[0m.\u001b[0m.\u001b[0m.\u001b[0m.\u001b[0m.\u001b[0m.\u001b[0m.\u001b[0m.\u001b[0m.\u001b[0m.\u001b[0m.\u001b[0m.\u001b[0m.\u001b[0m.\u001b[0m.\u001b[0m.\u001b[0m.\u001b[0m.\u001b[0m.\u001b[0m.\u001b[0m.\u001b[0m.\u001b[0m.\u001b[0m.\u001b[0m.\u001b[0m.\u001b[0m.\u001b[0m.\u001b[0m.\u001b[0m.\u001b[0m.\u001b[0m.\u001b[0m.\u001b[0m.\u001b[0m.\u001b[0m.\u001b[0m.\u001b[0m.\u001b[0m.\u001b[0m.\u001b[0m.\u001b[0m.\u001b[0m.\u001b[0m.\u001b[0m.\u001b[0m.\u001b[0m.\u001b[0m.\u001b[0m.\u001b[0m.\u001b[0m.\u001b[0m.\u001b[0m.\u001b[0m.\u001b[0m.\u001b[0m.\u001b[0m.\u001b[0m.\u001b[0m.\u001b[0m.\u001b[0m.\u001b[0m.\u001b[0m.\u001b[0m.\u001b[0m.\u001b[0m.\u001b[0m.\u001b[0m.\u001b[0m.\u001b[0m.\u001b[0m.\u001b[0m.\u001b[0m.\u001b[0m.\u001b[0m.\u001b[0m.\u001b[0m.\u001b[0m.\u001b[0m.\u001b[0m.\u001b[0m.\u001b[0m.\u001b[0m.\u001b[0m.\u001b[0m.\u001b[0m.\u001b[0m.\u001b[0m.\u001b[0m.\u001b[0m.\u001b[0m.\u001b[0m.\u001b[0m.\u001b[0m.\u001b[0m.\u001b[0m.\u001b[0m.\u001b[0m.\u001b[0m.\u001b[0m.\u001b[0m.\u001b[0m.\u001b[0m.\u001b[0m.\u001b[0m.\u001b[0m.\u001b[0m.\u001b[0m.\u001b[0m.\u001b[0m.\u001b[0m.\u001b[0m.\u001b[0m.\u001b[0m.\u001b[0m.\u001b[0m.\u001b[0m.\u001b[0m.\u001b[0m.\u001b[0m.\u001b[0m.\u001b[0m.\u001b[0m.\u001b[0m.\u001b[0m.\u001b[0m.\u001b[0m.\u001b[0m.\u001b[0m.\u001b[0m.\u001b[0m.\u001b[0m.\u001b[0m.\u001b[0m.\u001b[0m.\u001b[0m.\u001b[0m.\u001b[0m.\u001b[0m.\u001b[0m.\u001b[0m.\u001b[0m.\u001b[0m.\u001b[0m.\u001b[0m.\u001b[0m.\u001b[0m.\u001b[0m.\u001b[0m.\u001b[0m.\u001b[0m.\u001b[0m.\u001b[0m.\u001b[0m.\u001b[0m.\u001b[0m.\u001b[0m.\u001b[0m.\u001b[0m.\u001b[0m.\u001b[0m.\u001b[0m.\u001b[0m.\u001b[0m.\u001b[0m.\u001b[0m.\u001b[0m.\u001b[0m.\u001b[0m.\u001b[0m.\u001b[0m.\u001b[0m.\u001b[0m.\u001b[0m.\u001b[0m.\u001b[0m.\u001b[0m.\u001b[0m.\u001b[0m.\u001b[0m.\u001b[0m.\u001b[0m.\u001b[0m.\u001b[0m.\u001b[0m.\u001b[0m.\u001b[0m.\u001b[0m.\u001b[0m.\u001b[0m.\u001b[0m.\u001b[0m.\u001b[0m.\u001b[0m.\u001b[0m.\u001b[0m.\u001b[0m.\u001b[0m.\u001b[0m.\u001b[0m.\u001b[0m.\u001b[0m.\u001b[0m.\u001b[0m.\u001b[0m.\u001b[0m.\u001b[0m.\u001b[0m.\u001b[0m.\u001b[0m.\u001b[0m.\u001b[0m.\u001b[0m.\u001b[0m.\u001b[0m.\u001b[0m.\u001b[0m.\u001b[0m.\u001b[0m.\u001b[0m.\u001b[0m.\u001b[0m.\u001b[0m.\u001b[0m.\u001b[0m.\u001b[0m.\u001b[0m.\u001b[0m.\u001b[0m.\u001b[0m.\u001b[0m.\u001b[0m.\u001b[0m.\u001b[0m.\u001b[0m.\u001b[0m.\u001b[0m.\u001b[0m.\u001b[0m.\u001b[0m.\u001b[0m.\u001b[0m.\u001b[0m.\u001b[0m.\u001b[0m.\u001b[0m.\u001b[0m.\u001b[0m.\u001b[0m.\u001b[0m.\u001b[0m.\u001b[0m.\u001b[0m.\u001b[0m.\u001b[0m.\u001b[0m.\u001b[0m.\u001b[0m.\u001b[0m.\u001b[0m.\u001b[0m.\u001b[0m.\u001b[0m.\u001b[0m.\u001b[0m.\u001b[0m.\u001b[0m.\u001b[0m.\u001b[0m.\u001b[0m.\u001b[0m.\u001b[0m.\u001b[0m.\u001b[0m.\u001b[0m.\u001b[0m.\u001b[0m.\u001b[0m.\u001b[0m.\u001b[0m.\u001b[0m.\u001b[0m.\u001b[0m.\u001b[0m.\u001b[0m.\u001b[0m.\u001b[0m.\u001b[0m.\u001b[0m.\u001b[0m.\u001b[0m.\u001b[0m.\u001b[0m.\u001b[0m.\u001b[0m.\u001b[0m.\u001b[0m.\u001b[0m.\u001b[0m.\u001b[0m.\u001b[0m.\u001b[0m.\u001b[0m.\u001b[0m.\u001b[0m.\u001b[0m.\u001b[0m.\u001b[0m.\u001b[0m.\u001b[0m.\u001b[0m.\u001b[0m\u001b[32m\b✓\u001b[0m\u001b[?25h\u001b[0m\n",
            "Model name: en_best.mlmodel\u001b[0m\n"
          ],
          "name": "stdout"
        }
      ]
    },
    {
      "cell_type": "code",
      "metadata": {
        "colab": {
          "base_uri": "https://localhost:8080/"
        },
        "id": "Q9qPy5XccEpT",
        "outputId": "84214dbe-d792-4dac-e386-50decfaedd6f"
      },
      "source": [
        "! ketos train --resize add  -i English_model.mlmodel '/content/sample_data/Output_Folder'/*.png "
      ],
      "execution_count": null,
      "outputs": [
        {
          "output_type": "stream",
          "text": [
            "WARNING:root:scikit-learn version 0.22.2.post1 is not supported. Minimum required version: 0.17. Maximum required version: 0.19.2. Disabling scikit-learn conversion API.\n",
            "2021-04-21 11:28:18.670550: I tensorflow/stream_executor/platform/default/dso_loader.cc:49] Successfully opened dynamic library libcudart.so.11.0\n",
            "WARNING:root:TensorFlow version 2.4.1 detected. Last version known to be fully compatible is 2.3.1 .\n",
            "WARNING:root:Keras version 2.4.3 detected. Last version known to be fully compatible of Keras is 2.2.4 .\n",
            "\u001b[?25lBuilding training set  [####################################]  100%          \u001b[?25h\n",
            "\u001b[?25lBuilding validation set  [####################################]  100%          \u001b[?25h\n",
            "\u001b[33m[54.1047] alphabet mismatch: chars in training set only: {'|', '!', '#'} (not included in accuracy test during training) \u001b[0m\n",
            "Network codec not compatible with training set\u001b[0m\n",
            "Adding missing labels to network \u001b[0m\u001b[32m✓\u001b[0m\n",
            "\u001b[?25lstage 1/∞  [####################################]  2077/2077          Accuracy report (1) 0.9988 15411 18\u001b[0m\n",
            "\u001b[?25lstage 2/∞  [####################################]  2077/2077           Accuracy report (2) 0.9994 15411 10\u001b[0m\n",
            "\u001b[?25lstage 3/∞  [####################################]  2077/2077           Accuracy report (3) 0.9997 15411 4\u001b[0m\n",
            "\u001b[?25lstage 4/∞  [####################################]  2077/2077            Accuracy report (4) 0.9997 15411 4\u001b[0m\n",
            "\u001b[?25lstage 5/∞  [####################################]  2077/2077            Accuracy report (5) 0.9997 15411 5\u001b[0m\n",
            "\u001b[?25lstage 6/∞  [####################################]  2077/2077            Accuracy report (6) 0.9998 15411 3\u001b[0m\n",
            "\u001b[?25lstage 7/∞  [####################################]  2077/2077            Accuracy report (7) 0.9997 15411 4\u001b[0m\n",
            "\u001b[?25lstage 8/∞  [####################################]  2077/2077            Accuracy report (8) 0.9998 15411 3\u001b[0m\n",
            "\u001b[?25lstage 9/∞  [####################################]  2077/2077            Accuracy report (9) 0.9998 15411 3\u001b[0m\n",
            "\u001b[?25lstage 10/∞  [####################################]  2077/2077            Accuracy report (10) 0.9997 15411 4\u001b[0m\n",
            "\u001b[?25lstage 11/∞  [####################################]  2077/2077            Accuracy report (11) 0.9998 15411 3\u001b[0m\n",
            "\u001b[?25h\n",
            "Moving best model model_6.mlmodel (0.9998053338524431) to model_best.mlmodel\u001b[0m\n"
          ],
          "name": "stdout"
        }
      ]
    },
    {
      "cell_type": "code",
      "metadata": {
        "id": "CSzWBa_R4X_u"
      },
      "source": [
        ""
      ],
      "execution_count": null,
      "outputs": []
    }
  ]
}